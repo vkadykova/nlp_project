{
 "cells": [
  {
   "cell_type": "code",
   "execution_count": 2,
   "metadata": {},
   "outputs": [],
   "source": [
    "import numpy as np\n",
    "import pandas as pd\n",
    "import time\n",
    "import tqdm\n",
    "from sklearn import preprocessing\n",
    "from sklearn.feature_extraction.text import CountVectorizer, TfidfVectorizer\n",
    "import pymorphy2\n",
    "import warnings\n",
    "warnings.filterwarnings(\"ignore\")"
   ]
  },
  {
   "cell_type": "code",
   "execution_count": 16,
   "metadata": {},
   "outputs": [
    {
     "data": {
      "text/plain": [
       "\"nltk.download('stopwords')\\nnltk.download('punkt')\\nnltk.download()\""
      ]
     },
     "execution_count": 16,
     "metadata": {},
     "output_type": "execute_result"
    }
   ],
   "source": [
    "import matplotlib\n",
    "import artm\n",
    "import nltk\n",
    "import feedparser\n",
    "from nltk.corpus import stopwords\n",
    "\"\"\"nltk.download('stopwords')\n",
    "nltk.download('punkt')\n",
    "nltk.download()\"\"\""
   ]
  },
  {
   "cell_type": "code",
   "execution_count": 4,
   "metadata": {},
   "outputs": [],
   "source": [
    "data = pd.read_csv('gender-tense_data.csv');\n",
    "data = data.fillna('')"
   ]
  },
  {
   "cell_type": "code",
   "execution_count": 5,
   "metadata": {},
   "outputs": [],
   "source": [
    "data['Анамнез заболевания'].apply(lambda x: np.log(len(x)+1)).hist(bins=100);"
   ]
  },
  {
   "cell_type": "code",
   "execution_count": 6,
   "metadata": {},
   "outputs": [],
   "source": [
    "pd.options.display.max_colwidth = 1000"
   ]
  },
  {
   "cell_type": "code",
   "execution_count": null,
   "metadata": {},
   "outputs": [],
   "source": []
  },
  {
   "cell_type": "code",
   "execution_count": 7,
   "metadata": {},
   "outputs": [],
   "source": [
    "morph = pymorphy2.MorphAnalyzer()"
   ]
  },
  {
   "cell_type": "code",
   "execution_count": 8,
   "metadata": {},
   "outputs": [
    {
     "data": {
      "text/html": [
       "<div>\n",
       "<style scoped>\n",
       "    .dataframe tbody tr th:only-of-type {\n",
       "        vertical-align: middle;\n",
       "    }\n",
       "\n",
       "    .dataframe tbody tr th {\n",
       "        vertical-align: top;\n",
       "    }\n",
       "\n",
       "    .dataframe thead th {\n",
       "        text-align: right;\n",
       "    }\n",
       "</style>\n",
       "<table border=\"1\" class=\"dataframe\">\n",
       "  <thead>\n",
       "    <tr style=\"text-align: right;\">\n",
       "      <th></th>\n",
       "      <th>Unnamed: 0</th>\n",
       "      <th>ID</th>\n",
       "      <th>Код_диагноза</th>\n",
       "      <th>Диагноз</th>\n",
       "      <th>Возраст</th>\n",
       "      <th>Пол</th>\n",
       "      <th>Общее состояние</th>\n",
       "      <th>аллергия</th>\n",
       "      <th>Анамнез заболевания</th>\n",
       "      <th>Внешний осмотр</th>\n",
       "      <th>Revisit</th>\n",
       "      <th>lemm</th>\n",
       "      <th>text</th>\n",
       "      <th>past</th>\n",
       "      <th>pres</th>\n",
       "      <th>futr</th>\n",
       "      <th>male</th>\n",
       "      <th>female</th>\n",
       "    </tr>\n",
       "  </thead>\n",
       "  <tbody>\n",
       "    <tr>\n",
       "      <th>283081</th>\n",
       "      <td>283081</td>\n",
       "      <td>283081</td>\n",
       "      <td>E04.1</td>\n",
       "      <td>Нетоксический одноузловой зоб</td>\n",
       "      <td>46</td>\n",
       "      <td>2</td>\n",
       "      <td></td>\n",
       "      <td></td>\n",
       "      <td>Травма 3нед. назад - упала на улице. Обращалась в РТП - рентгенография.   2 нед иммобилизации лев.лучезапястного сустава ортезом.</td>\n",
       "      <td></td>\n",
       "      <td>1</td>\n",
       "      <td>травма нед назад упасть на улица обращаться в ртп рентгенография нед иммобилизация левлучезапястный сустав ортез</td>\n",
       "      <td>травма нед назад  упала на улице обращалась в ртп  рентгенография    нед иммобилизации левлучезапястного сустава ортезом</td>\n",
       "      <td>2</td>\n",
       "      <td>0</td>\n",
       "      <td>0</td>\n",
       "      <td>0</td>\n",
       "      <td>2</td>\n",
       "    </tr>\n",
       "    <tr>\n",
       "      <th>283082</th>\n",
       "      <td>283082</td>\n",
       "      <td>283082</td>\n",
       "      <td>Z01.4</td>\n",
       "      <td>Гинекологическое обследование (общее) (рутинное)</td>\n",
       "      <td>68</td>\n",
       "      <td>2</td>\n",
       "      <td>Состояние удовлетворительное .</td>\n",
       "      <td>не отягощен</td>\n",
       "      <td></td>\n",
       "      <td></td>\n",
       "      <td>1</td>\n",
       "      <td></td>\n",
       "      <td></td>\n",
       "      <td>0</td>\n",
       "      <td>0</td>\n",
       "      <td>0</td>\n",
       "      <td>0</td>\n",
       "      <td>0</td>\n",
       "    </tr>\n",
       "    <tr>\n",
       "      <th>283083</th>\n",
       "      <td>283083</td>\n",
       "      <td>283083</td>\n",
       "      <td>H16</td>\n",
       "      <td>Кератит</td>\n",
       "      <td>36</td>\n",
       "      <td>1</td>\n",
       "      <td></td>\n",
       "      <td>Аллергию на лекарства - отрицает</td>\n",
       "      <td></td>\n",
       "      <td></td>\n",
       "      <td>1</td>\n",
       "      <td></td>\n",
       "      <td></td>\n",
       "      <td>0</td>\n",
       "      <td>0</td>\n",
       "      <td>0</td>\n",
       "      <td>0</td>\n",
       "      <td>0</td>\n",
       "    </tr>\n",
       "    <tr>\n",
       "      <th>283084</th>\n",
       "      <td>283084</td>\n",
       "      <td>283084</td>\n",
       "      <td>J00</td>\n",
       "      <td>Острый назофарингит (насморк)</td>\n",
       "      <td>33</td>\n",
       "      <td>2</td>\n",
       "      <td></td>\n",
       "      <td></td>\n",
       "      <td>обратилась для осмотра при беременности 35 недель. Течение беременности с угрозой прерывания в последний месяц на фоне повышенного тонуса матки, ЖДА в августе, принимала ферро-фольгамму месяц. .  За время беременности набрала около 9-ти кг веса.  В анамнезе- ДЖВП на фоне дисформии ЖП, хр. гастродуоденит</td>\n",
       "      <td></td>\n",
       "      <td>1</td>\n",
       "      <td>обратиться для осмотр при беременность неделя течение беременность с угроза прерывание в последний месяц на фон повышенный тонус матка жда в август принимать феррофольгамма месяц за время беременность набрать около ти килограмм вес в анамнез джвп на фон дисформия жп хр гастродуоденит</td>\n",
       "      <td>обратилась для осмотра при беременности  недель течение беременности с угрозой прерывания в последний месяц на фоне повышенного тонуса матки жда в августе принимала феррофольгамму месяц   за время беременности набрала около ти кг веса  в анамнезе джвп на фоне дисформии жп хр гастродуоденит</td>\n",
       "      <td>3</td>\n",
       "      <td>0</td>\n",
       "      <td>0</td>\n",
       "      <td>0</td>\n",
       "      <td>3</td>\n",
       "    </tr>\n",
       "    <tr>\n",
       "      <th>283085</th>\n",
       "      <td>283085</td>\n",
       "      <td>283085</td>\n",
       "      <td>N11</td>\n",
       "      <td>Хронический тубулоинтерстициальный нефрит</td>\n",
       "      <td>42</td>\n",
       "      <td>2</td>\n",
       "      <td></td>\n",
       "      <td></td>\n",
       "      <td>без дополнений.</td>\n",
       "      <td></td>\n",
       "      <td>1</td>\n",
       "      <td>без дополнение</td>\n",
       "      <td>без дополнений</td>\n",
       "      <td>0</td>\n",
       "      <td>0</td>\n",
       "      <td>0</td>\n",
       "      <td>0</td>\n",
       "      <td>0</td>\n",
       "    </tr>\n",
       "  </tbody>\n",
       "</table>\n",
       "</div>"
      ],
      "text/plain": [
       "        Unnamed: 0      ID Код_диагноза  \\\n",
       "283081      283081  283081        E04.1   \n",
       "283082      283082  283082        Z01.4   \n",
       "283083      283083  283083          H16   \n",
       "283084      283084  283084          J00   \n",
       "283085      283085  283085          N11   \n",
       "\n",
       "                                                 Диагноз  Возраст  Пол  \\\n",
       "283081                     Нетоксический одноузловой зоб       46    2   \n",
       "283082  Гинекологическое обследование (общее) (рутинное)       68    2   \n",
       "283083                                           Кератит       36    1   \n",
       "283084                     Острый назофарингит (насморк)       33    2   \n",
       "283085         Хронический тубулоинтерстициальный нефрит       42    2   \n",
       "\n",
       "                        Общее состояние                          аллергия  \\\n",
       "283081                                                                      \n",
       "283082  Состояние удовлетворительное .                        не отягощен   \n",
       "283083                                   Аллергию на лекарства - отрицает   \n",
       "283084                                                                      \n",
       "283085                                                                      \n",
       "\n",
       "                                                                                                                                                                                                                                                                                                     Анамнез заболевания  \\\n",
       "283081                                                                                                                                                                                 Травма 3нед. назад - упала на улице. Обращалась в РТП - рентгенография.   2 нед иммобилизации лев.лучезапястного сустава ортезом.   \n",
       "283082                                                                                                                                                                                                                                                                                                                     \n",
       "283083                                                                                                                                                                                                                                                                                                                     \n",
       "283084  обратилась для осмотра при беременности 35 недель. Течение беременности с угрозой прерывания в последний месяц на фоне повышенного тонуса матки, ЖДА в августе, принимала ферро-фольгамму месяц. .  За время беременности набрала около 9-ти кг веса.  В анамнезе- ДЖВП на фоне дисформии ЖП, хр. гастродуоденит   \n",
       "283085                                                                                                                                                                                                                                                                                                   без дополнений.   \n",
       "\n",
       "       Внешний осмотр  Revisit  \\\n",
       "283081                       1   \n",
       "283082                       1   \n",
       "283083                       1   \n",
       "283084                       1   \n",
       "283085                       1   \n",
       "\n",
       "                                                                                                                                                                                                                                                                                                lemm  \\\n",
       "283081                                                                                                                                                                              травма нед назад упасть на улица обращаться в ртп рентгенография нед иммобилизация левлучезапястный сустав ортез   \n",
       "283082                                                                                                                                                                                                                                                                                                 \n",
       "283083                                                                                                                                                                                                                                                                                                 \n",
       "283084  обратиться для осмотр при беременность неделя течение беременность с угроза прерывание в последний месяц на фон повышенный тонус матка жда в август принимать феррофольгамма месяц за время беременность набрать около ти килограмм вес в анамнез джвп на фон дисформия жп хр гастродуоденит   \n",
       "283085                                                                                                                                                                                                                                                                                без дополнение   \n",
       "\n",
       "                                                                                                                                                                                                                                                                                                      text  \\\n",
       "283081                                                                                                                                                                            травма нед назад  упала на улице обращалась в ртп  рентгенография    нед иммобилизации левлучезапястного сустава ортезом   \n",
       "283082                                                                                                                                                                                                                                                                                                       \n",
       "283083                                                                                                                                                                                                                                                                                                       \n",
       "283084  обратилась для осмотра при беременности  недель течение беременности с угрозой прерывания в последний месяц на фоне повышенного тонуса матки жда в августе принимала феррофольгамму месяц   за время беременности набрала около ти кг веса  в анамнезе джвп на фоне дисформии жп хр гастродуоденит   \n",
       "283085                                                                                                                                                                                                                                                                                      без дополнений   \n",
       "\n",
       "        past  pres  futr  male  female  \n",
       "283081     2     0     0     0       2  \n",
       "283082     0     0     0     0       0  \n",
       "283083     0     0     0     0       0  \n",
       "283084     3     0     0     0       3  \n",
       "283085     0     0     0     0       0  "
      ]
     },
     "execution_count": 8,
     "metadata": {},
     "output_type": "execute_result"
    }
   ],
   "source": [
    "data.tail()"
   ]
  },
  {
   "cell_type": "code",
   "execution_count": 12,
   "metadata": {},
   "outputs": [
    {
     "name": "stdout",
     "output_type": "stream",
     "text": [
      "283086\n",
      "(566172,)\n",
      "9954\n"
     ]
    }
   ],
   "source": [
    "\"\"\"X_diag = data['Диагноз']\n",
    "X_ana = data['Анамнез заболевания']\n",
    "X_vnosm = data['Внешний осмотр']\n",
    "X_age = data['Возраст'].values\n",
    "X_sex = data['Пол'].values\n",
    "\n",
    "\n",
    "n_samples = len(X_diag.values)\n",
    "print(n_samples)\n",
    "corpus = np.hstack((X_diag.values, X_vnosm))\n",
    "vectorizer = CountVectorizer(min_df = 3/(2*len(corpus)), token_pattern = '[0-9]*[а-яА-ЯёЁa-zA-Z]+',\n",
    "                             max_features = 10000, ngram_range=(1,2))\n",
    "#vectorizer = CountVectorizer(min_df = 3/(2*len(corpus)), max_features = 10000, stop_words = ['NaN'])\n",
    "print(corpus.shape)\n",
    "D = vectorizer.fit_transform(corpus)\n",
    "dict = vectorizer.get_feature_names()\n",
    "print(len(dict))\n",
    "\"\"\""
   ]
  },
  {
   "cell_type": "code",
   "execution_count": 10,
   "metadata": {},
   "outputs": [
    {
     "data": {
      "text/plain": [
       "44144"
      ]
     },
     "execution_count": 10,
     "metadata": {},
     "output_type": "execute_result"
    }
   ],
   "source": [
    "X_text = data['text']\n",
    "corpus = X_text.values\n",
    "vectorizer = CountVectorizer(min_df = 2)\n",
    "D = vectorizer.fit(corpus)\n",
    "len(D.vocabulary_)"
   ]
  },
  {
   "cell_type": "code",
   "execution_count": 43,
   "metadata": {},
   "outputs": [
    {
     "data": {
      "text/plain": [
       "27117"
      ]
     },
     "execution_count": 43,
     "metadata": {},
     "output_type": "execute_result"
    }
   ],
   "source": [
    "X_lemm = data['lemm']\n",
    "corpus = X_lemm.values\n",
    "vectorizer = CountVectorizer(min_df = 2)\n",
    "D2 = vectorizer.fit(corpus)\n",
    "len(D2.vocabulary_)"
   ]
  },
  {
   "cell_type": "code",
   "execution_count": 12,
   "metadata": {},
   "outputs": [],
   "source": [
    "stop_eng = nltk.corpus.stopwords.words('english')\n",
    "stop_rus = nltk.corpus.stopwords.words('russian')"
   ]
  },
  {
   "cell_type": "code",
   "execution_count": 13,
   "metadata": {},
   "outputs": [
    {
     "data": {
      "text/plain": [
       "['и',\n",
       " 'в',\n",
       " 'во',\n",
       " 'не',\n",
       " 'что',\n",
       " 'он',\n",
       " 'на',\n",
       " 'я',\n",
       " 'с',\n",
       " 'со',\n",
       " 'как',\n",
       " 'а',\n",
       " 'то',\n",
       " 'все',\n",
       " 'она',\n",
       " 'так',\n",
       " 'его',\n",
       " 'но',\n",
       " 'да',\n",
       " 'ты',\n",
       " 'к',\n",
       " 'у',\n",
       " 'же',\n",
       " 'вы',\n",
       " 'за',\n",
       " 'бы',\n",
       " 'по',\n",
       " 'только',\n",
       " 'ее',\n",
       " 'мне']"
      ]
     },
     "execution_count": 13,
     "metadata": {},
     "output_type": "execute_result"
    }
   ],
   "source": [
    "stop_rus[0:30]"
   ]
  },
  {
   "cell_type": "code",
   "execution_count": 14,
   "metadata": {},
   "outputs": [],
   "source": [
    "all_text = np.concatenate(data['text'].apply (lambda s: s.strip().split()))\n",
    "all_lemm = np.concatenate(data['lemm'].apply (lambda s: s.strip().split()))"
   ]
  },
  {
   "cell_type": "code",
   "execution_count": 15,
   "metadata": {},
   "outputs": [],
   "source": [
    "all_words = set(all_text)\n",
    "all_words_lemm = set(all_lemm)"
   ]
  },
  {
   "cell_type": "code",
   "execution_count": 16,
   "metadata": {},
   "outputs": [
    {
     "name": "stdout",
     "output_type": "stream",
     "text": [
      "number all words lemm: 63589\n"
     ]
    }
   ],
   "source": [
    "print('number all words lemm:', len(all_words_lemm))"
   ]
  },
  {
   "cell_type": "code",
   "execution_count": 17,
   "metadata": {},
   "outputs": [
    {
     "name": "stdout",
     "output_type": "stream",
     "text": [
      "number all words: 95559\n"
     ]
    }
   ],
   "source": [
    "print('number all words:', len(all_words))"
   ]
  },
  {
   "cell_type": "code",
   "execution_count": 18,
   "metadata": {},
   "outputs": [],
   "source": [
    "count = pd.Series(all_lemm).value_counts()"
   ]
  },
  {
   "cell_type": "code",
   "execution_count": 19,
   "metadata": {},
   "outputs": [
    {
     "data": {
      "text/plain": [
       "в                                         210302\n",
       "с                                         137761\n",
       "год                                        91132\n",
       "на                                         89960\n",
       "не                                         83702\n",
       "по                                         69093\n",
       "боль                                       61111\n",
       "и                                          52113\n",
       "лечение                                    51578\n",
       "течение                                    45811\n",
       "жалоба                                     45730\n",
       "день                                       38762\n",
       "беспокоить                                 35911\n",
       "обследование                               35177\n",
       "к                                          32878\n",
       "неделя                                     31411\n",
       "отмечать                                   31088\n",
       "около                                      30885\n",
       "фон                                        30719\n",
       "обратиться                                 28858\n",
       "принимать                                  28579\n",
       "назад                                      26651\n",
       "месяц                                      25537\n",
       "после                                      24727\n",
       "последний                                  23613\n",
       "лечиться                                   23297\n",
       "самостоятельно                             23158\n",
       "появиться                                  21445\n",
       "без                                        21152\n",
       "для                                        20825\n",
       "                                           ...  \n",
       "нэнни                                          1\n",
       "зиновьев                                       1\n",
       "эрозиногеморрагический                         1\n",
       "бронхикумзиртек                                1\n",
       "сохрапняться                                   1\n",
       "мормент                                        1\n",
       "полденс                                        1\n",
       "появлкение                                     1\n",
       "иррадиациидать                                 1\n",
       "жилоб                                          1\n",
       "имвреденаоперация                              1\n",
       "воскресеньяднф                                 1\n",
       "каллораж                                       1\n",
       "иммунитетомврачомаллергологомиммунолог         1\n",
       "нарколутом                                     1\n",
       "ренгтеногрфия                                  1\n",
       "выынужденный                                   1\n",
       "фобензима                                      1\n",
       "данноём                                        1\n",
       "лоратадинполоскать                             1\n",
       "новолгин                                       1\n",
       "мальцеберцов                                   1\n",
       "денситометр                                    1\n",
       "жлёз                                           1\n",
       "летя                                           1\n",
       "переохлаждениемопор                            1\n",
       "статусена                                      1\n",
       "связываетвчера                                 1\n",
       "сохранялисьмакс                                1\n",
       "ввелдение                                      1\n",
       "Length: 63589, dtype: int64"
      ]
     },
     "execution_count": 19,
     "metadata": {},
     "output_type": "execute_result"
    }
   ],
   "source": [
    "count"
   ]
  },
  {
   "cell_type": "code",
   "execution_count": 38,
   "metadata": {},
   "outputs": [],
   "source": [
    "#count[count == 1].index.head(100).to_csv('100_one_time.csv')\n",
    "one_time = pd.Series(all_lemm)[pd.Series(all_lemm).isin(pd.Series(all_lemm).value_counts()[pd.Series(all_lemm).value_counts() == 1].index)]\n"
   ]
  },
  {
   "cell_type": "code",
   "execution_count": 39,
   "metadata": {},
   "outputs": [],
   "source": [
    "one_time.head(100).to_csv('100_one_time.csv', index = False, encoding='cp1251')"
   ]
  },
  {
   "cell_type": "code",
   "execution_count": 44,
   "metadata": {},
   "outputs": [
    {
     "data": {
      "text/html": [
       "<div>\n",
       "<style scoped>\n",
       "    .dataframe tbody tr th:only-of-type {\n",
       "        vertical-align: middle;\n",
       "    }\n",
       "\n",
       "    .dataframe tbody tr th {\n",
       "        vertical-align: top;\n",
       "    }\n",
       "\n",
       "    .dataframe thead th {\n",
       "        text-align: right;\n",
       "    }\n",
       "</style>\n",
       "<table border=\"1\" class=\"dataframe\">\n",
       "  <thead>\n",
       "    <tr style=\"text-align: right;\">\n",
       "      <th></th>\n",
       "      <th>физиотерап</th>\n",
       "    </tr>\n",
       "  </thead>\n",
       "  <tbody>\n",
       "    <tr>\n",
       "      <th>0</th>\n",
       "      <td>гигантоклеточный</td>\n",
       "    </tr>\n",
       "    <tr>\n",
       "      <th>1</th>\n",
       "      <td>остеокластома</td>\n",
       "    </tr>\n",
       "    <tr>\n",
       "      <th>2</th>\n",
       "      <td>дерматографический</td>\n",
       "    </tr>\n",
       "    <tr>\n",
       "      <th>3</th>\n",
       "      <td>первичныка</td>\n",
       "    </tr>\n",
       "    <tr>\n",
       "      <th>4</th>\n",
       "      <td>эзофагнит</td>\n",
       "    </tr>\n",
       "  </tbody>\n",
       "</table>\n",
       "</div>"
      ],
      "text/plain": [
       "           физиотерап\n",
       "0    гигантоклеточный\n",
       "1       остеокластома\n",
       "2  дерматографический\n",
       "3          первичныка\n",
       "4           эзофагнит"
      ]
     },
     "execution_count": 44,
     "metadata": {},
     "output_type": "execute_result"
    }
   ],
   "source": [
    "one100 = pd.read_csv('100_one_time.csv', encoding='cp1251');\n",
    "one100.head()"
   ]
  },
  {
   "cell_type": "code",
   "execution_count": 45,
   "metadata": {},
   "outputs": [
    {
     "data": {
      "image/png": "[encoded data removed]",
      "text/plain": [
       "<matplotlib.figure.Figure at 0x158830778d0>"
      ]
     },
     "metadata": {},
     "output_type": "display_data"
    }
   ],
   "source": [
    "count.apply(lambda x: np.log(x)).hist(bins=100);"
   ]
  },
  {
   "cell_type": "code",
   "execution_count": 46,
   "metadata": {},
   "outputs": [],
   "source": [
    "words_ser = pd.Series(all_lemm)\n",
    "without_stop = words_ser[~words_ser.isin(stop_rus)]"
   ]
  },
  {
   "cell_type": "code",
   "execution_count": 125,
   "metadata": {},
   "outputs": [
    {
     "data": {
      "text/plain": [
       "год                    91132\n",
       "боль                   61111\n",
       "лечение                51578\n",
       "течение                45811\n",
       "жалоба                 45730\n",
       "день                   38762\n",
       "беспокоить             35911\n",
       "обследование           35177\n",
       "неделя                 31411\n",
       "отмечать               31088\n",
       "около                  30885\n",
       "фон                    30719\n",
       "обратиться             28858\n",
       "принимать              28579\n",
       "назад                  26651\n",
       "месяц                  25537\n",
       "последний              23613\n",
       "лечиться               23297\n",
       "самостоятельно         23158\n",
       "появиться              21445\n",
       "терапия                19818\n",
       "связывать              19373\n",
       "провести               18991\n",
       "консультация           18065\n",
       "результат              17925\n",
       "дать                   17352\n",
       "х                      16951\n",
       "приём                  16240\n",
       "больной                15961\n",
       "эффект                 15720\n",
       "                       ...  \n",
       "гиперинсулинизм            1\n",
       "найстойка                  1\n",
       "фолиминт                   1\n",
       "новосепт                   1\n",
       "апоневрозить               1\n",
       "тповторный                 1\n",
       "стачический                1\n",
       "фхкп                       1\n",
       "кататравма                 1\n",
       "гемагниома                 1\n",
       "закодировать               1\n",
       "мамыстать                  1\n",
       "железыслева                1\n",
       "боррелиозвый               1\n",
       "анамнезеглистный           1\n",
       "суммамедлизобакт           1\n",
       "эетерококк                 1\n",
       "септоплатсик               1\n",
       "инсан                      1\n",
       "легроса                    1\n",
       "апровести                  1\n",
       "психоэмоциональнеий        1\n",
       "дообседовать               1\n",
       "хламидиам                  1\n",
       "профсоюз                   1\n",
       "форлатум                   1\n",
       "праивить                   1\n",
       "стрессысый                 1\n",
       "физиотенрапия              1\n",
       "нескколький                1\n",
       "Length: 63489, dtype: int64"
      ]
     },
     "execution_count": 125,
     "metadata": {},
     "output_type": "execute_result"
    }
   ],
   "source": [
    "count2 = without_stop.value_counts()\n",
    "#count2"
   ]
  },
  {
   "cell_type": "code",
   "execution_count": 47,
   "metadata": {},
   "outputs": [
    {
     "data": {
      "text/plain": [
       "1     36295\n",
       "2      8448\n",
       "3      3623\n",
       "4      2085\n",
       "5      1382\n",
       "6       973\n",
       "7       810\n",
       "8       577\n",
       "9       512\n",
       "10      439\n",
       "11      411\n",
       "12      330\n",
       "13      264\n",
       "14      249\n",
       "15      230\n",
       "17      199\n",
       "16      176\n",
       "19      162\n",
       "18      162\n",
       "20      152\n",
       "dtype: int64"
      ]
     },
     "execution_count": 47,
     "metadata": {},
     "output_type": "execute_result"
    }
   ],
   "source": [
    "without_stop.value_counts().value_counts().head(20)"
   ]
  },
  {
   "cell_type": "code",
   "execution_count": 58,
   "metadata": {},
   "outputs": [],
   "source": [
    "#вместо 1 можно поставить любое число, которое мы бцдем считать слишком редкое\n",
    "without_rare = without_stop[without_stop.isin(without_stop.value_counts()[without_stop.value_counts() > 7].index)]"
   ]
  },
  {
   "cell_type": "code",
   "execution_count": 59,
   "metadata": {},
   "outputs": [
    {
     "name": "stdout",
     "output_type": "stream",
     "text": [
      "9873\n",
      "3292659\n"
     ]
    },
    {
     "data": {
      "text/plain": [
       "год                                   91132\n",
       "боль                                  61111\n",
       "лечение                               51578\n",
       "течение                               45811\n",
       "жалоба                                45730\n",
       "день                                  38762\n",
       "беспокоить                            35911\n",
       "обследование                          35177\n",
       "неделя                                31411\n",
       "отмечать                              31088\n",
       "около                                 30885\n",
       "фон                                   30719\n",
       "обратиться                            28858\n",
       "принимать                             28579\n",
       "назад                                 26651\n",
       "месяц                                 25537\n",
       "последний                             23613\n",
       "лечиться                              23297\n",
       "самостоятельно                        23158\n",
       "появиться                             21445\n",
       "терапия                               19818\n",
       "связывать                             19373\n",
       "провести                              18991\n",
       "консультация                          18065\n",
       "результат                             17925\n",
       "дать                                  17352\n",
       "х                                     16951\n",
       "приём                                 16240\n",
       "больной                               15961\n",
       "эффект                                15720\n",
       "                                      ...  \n",
       "газировать                                8\n",
       "вобласть                                  8\n",
       "нц                                        8\n",
       "болный                                    8\n",
       "заключительный                            8\n",
       "срз                                       8\n",
       "нстоящий                                  8\n",
       "состяоина                                 8\n",
       "красота                                   8\n",
       "антибактекриальный                        8\n",
       "месяцевврачомаллергологомиммунолог        8\n",
       "спрегаль                                  8\n",
       "аткж                                      8\n",
       "регулировать                              8\n",
       "афс                                       8\n",
       "изя                                       8\n",
       "пауэрлифтинг                              8\n",
       "окклюзивный                               8\n",
       "видимо                                    8\n",
       "удлинённый                                8\n",
       "рентенография                             8\n",
       "вышеуказнный                              8\n",
       "попёрхивание                              8\n",
       "малавит                                   8\n",
       "неяркий                                   8\n",
       "клипирование                              8\n",
       "магнитотерпий                             8\n",
       "успокаивать                               8\n",
       "валерианка                                8\n",
       "хрфарингит                                8\n",
       "Length: 9873, dtype: int64"
      ]
     },
     "execution_count": 59,
     "metadata": {},
     "output_type": "execute_result"
    }
   ],
   "source": [
    "print(len(set(without_rare)))\n",
    "print(len(without_rare))\n",
    "without_rare.value_counts()"
   ]
  },
  {
   "cell_type": "code",
   "execution_count": 49,
   "metadata": {},
   "outputs": [
    {
     "data": {
      "text/plain": [
       "dtype('O')"
      ]
     },
     "execution_count": 49,
     "metadata": {},
     "output_type": "execute_result"
    }
   ],
   "source": [
    "without_rare.dtype"
   ]
  },
  {
   "cell_type": "code",
   "execution_count": 61,
   "metadata": {},
   "outputs": [],
   "source": [
    "#удалим очень короткие слова\n",
    "def long_words(text):\n",
    "\n",
    "    result = []\n",
    "    for word in text.split():\n",
    "        if len(word) > 2:\n",
    "            #print(word)\n",
    "            result.append(word)\n",
    "                              \n",
    "    return ' '.join(result)\n"
   ]
  },
  {
   "cell_type": "code",
   "execution_count": 62,
   "metadata": {},
   "outputs": [],
   "source": [
    "no_short = without_rare.apply(long_words)"
   ]
  },
  {
   "cell_type": "code",
   "execution_count": 63,
   "metadata": {},
   "outputs": [
    {
     "data": {
      "text/plain": [
       "                      93167\n",
       "год                   91132\n",
       "боль                  61111\n",
       "лечение               51578\n",
       "течение               45811\n",
       "жалоба                45730\n",
       "день                  38762\n",
       "беспокоить            35911\n",
       "обследование          35177\n",
       "неделя                31411\n",
       "отмечать              31088\n",
       "около                 30885\n",
       "фон                   30719\n",
       "обратиться            28858\n",
       "принимать             28579\n",
       "назад                 26651\n",
       "месяц                 25537\n",
       "последний             23613\n",
       "лечиться              23297\n",
       "самостоятельно        23158\n",
       "появиться             21445\n",
       "терапия               19818\n",
       "связывать             19373\n",
       "провести              18991\n",
       "консультация          18065\n",
       "результат             17925\n",
       "дать                  17352\n",
       "приём                 16240\n",
       "больной               15961\n",
       "эффект                15720\n",
       "                      ...  \n",
       "сексуальный               8\n",
       "колбаска                  8\n",
       "хумулина                  8\n",
       "слюноотделение            8\n",
       "грибов                    8\n",
       "быструмгель               8\n",
       "столица                   8\n",
       "перенесена                8\n",
       "состяоина                 8\n",
       "плевродеза                8\n",
       "аритмический              8\n",
       "дисковидный               8\n",
       "привезти                  8\n",
       "обратииться               8\n",
       "нерегулярность            8\n",
       "годань                    8\n",
       "щёлкать                   8\n",
       "назанчать                 8\n",
       "отмечаеть                 8\n",
       "буллезный                 8\n",
       "радикулоишемия            8\n",
       "мука                      8\n",
       "повтор                    8\n",
       "пощипывание               8\n",
       "ускорение                 8\n",
       "заявление                 8\n",
       "панкреонекроз             8\n",
       "дигидротестостерон        8\n",
       "допуск                    8\n",
       "лизис                     8\n",
       "Length: 9647, dtype: int64"
      ]
     },
     "execution_count": 63,
     "metadata": {},
     "output_type": "execute_result"
    }
   ],
   "source": [
    "no_short.value_counts()"
   ]
  },
  {
   "cell_type": "code",
   "execution_count": 64,
   "metadata": {},
   "outputs": [
    {
     "data": {
      "image/png": "[encoded data removed]",
      "text/plain": [
       "<matplotlib.figure.Figure at 0x158831ed630>"
      ]
     },
     "metadata": {},
     "output_type": "display_data"
    }
   ],
   "source": [
    "no_short.value_counts().hist();"
   ]
  },
  {
   "cell_type": "code",
   "execution_count": 65,
   "metadata": {},
   "outputs": [],
   "source": [
    "no_short.to_csv('no_short.csv', index = False, encoding='cp1251')"
   ]
  },
  {
   "cell_type": "code",
   "execution_count": null,
   "metadata": {},
   "outputs": [],
   "source": []
  },
  {
   "cell_type": "code",
   "execution_count": 66,
   "metadata": {},
   "outputs": [],
   "source": [
    "sos = pd.read_csv('no_short.csv', encoding='cp1251');"
   ]
  },
  {
   "cell_type": "code",
   "execution_count": null,
   "metadata": {},
   "outputs": [],
   "source": [
    "len(sos)"
   ]
  },
  {
   "cell_type": "code",
   "execution_count": 18,
   "metadata": {},
   "outputs": [
    {
     "name": "stdout",
     "output_type": "stream",
     "text": [
      "All frequencies, including STOPWORDS:\n",
      "============================================================\n",
      "              Word  Frequency\n",
      "0                в     210302\n",
      "1                с     137761\n",
      "2              год      91132\n",
      "3               на      89960\n",
      "4               не      83702\n",
      "5               по      69093\n",
      "6             боль      61111\n",
      "7                и      52113\n",
      "8          лечение      51578\n",
      "9          течение      45811\n",
      "10          жалоба      45730\n",
      "11            день      38762\n",
      "12      беспокоить      35911\n",
      "13    обследование      35177\n",
      "14               к      32878\n",
      "15          неделя      31411\n",
      "16        отмечать      31088\n",
      "17           около      30885\n",
      "18             фон      30719\n",
      "19      обратиться      28858\n",
      "20       принимать      28579\n",
      "21           назад      26651\n",
      "22           месяц      25537\n",
      "23           после      24727\n",
      "24       последний      23613\n",
      "25        лечиться      23297\n",
      "26  самостоятельно      23158\n",
      "27       появиться      21445\n",
      "28             без      21152\n",
      "29             для      20825\n",
      "..             ...        ...\n",
      "40          эффект      15720\n",
      "41      обращаться      15702\n",
      "42           слово      15407\n",
      "43   положительный      15393\n",
      "44            быть      14071\n",
      "45       ухудшение      14016\n",
      "46           время      13956\n",
      "47     заболевание      13857\n",
      "48         анамнез      13415\n",
      "49      обострение      13136\n",
      "50           левый      13108\n",
      "51              до      13074\n",
      "52           ранее      12928\n",
      "53               у      12265\n",
      "54          травма      12264\n",
      "55       пациентка      12246\n",
      "56              от      11986\n",
      "57       несколько      11948\n",
      "58           повод      11929\n",
      "59       улучшение      11402\n",
      "60          правый      11345\n",
      "61             ада      11296\n",
      "62          сустав      11210\n",
      "63           отдел      10767\n",
      "64   вышеуказанный      10251\n",
      "65       назначить      10238\n",
      "66        головной      10104\n",
      "67             чем      10047\n",
      "68            курс       9945\n",
      "69           когда       9858\n",
      "\n",
      "[70 rows x 2 columns]\n",
      "============================================================\n"
     ]
    },
    {
     "data": {
      "text/plain": [
       "<matplotlib.axes._subplots.AxesSubplot at 0x1e669b1eef0>"
      ]
     },
     "execution_count": 18,
     "metadata": {},
     "output_type": "execute_result"
    },
    {
     "data": {
      "image/png": "[encoded data removed]",
      "text/plain": [
       "<matplotlib.figure.Figure at 0x1e669b32c88>"
      ]
     },
     "metadata": {},
     "output_type": "display_data"
    }
   ],
   "source": [
    "txt = data.lemm.str.cat(sep=' ')\n",
    "words = nltk.tokenize.word_tokenize(txt)\n",
    "word_dist = nltk.FreqDist(words)\n",
    "\n",
    "stopwords = nltk.corpus.stopwords.words('russian')\n",
    "words_except_stop_dist = nltk.FreqDist(w for w in words if w not in stopwords) \n",
    "\n",
    "print('All frequencies, including STOPWORDS:')\n",
    "print('=' * 60)\n",
    "rslt = pd.DataFrame(word_dist.most_common(70),\n",
    "                    columns=['Word', 'Frequency'])\n",
    "print(rslt)\n",
    "print('=' * 60)\n",
    "\n",
    "rslt = pd.DataFrame(words_except_stop_dist.most_common(70),\n",
    "                    columns=['Word', 'Frequency']).set_index('Word')\n",
    "\n",
    "matplotlib.style.use('ggplot')\n",
    "\n",
    "rslt.plot.bar(rot=0, figsize=(18, 16))"
   ]
  },
  {
   "cell_type": "code",
   "execution_count": null,
   "metadata": {},
   "outputs": [],
   "source": []
  }
 ],
 "metadata": {
  "kernelspec": {
   "display_name": "Python 3",
   "language": "python",
   "name": "python3"
  },
  "language_info": {
   "codemirror_mode": {
    "name": "ipython",
    "version": 3
   },
   "file_extension": ".py",
   "mimetype": "text/x-python",
   "name": "python",
   "nbconvert_exporter": "python",
   "pygments_lexer": "ipython3",
   "version": "3.6.4"
  }
 },
 "nbformat": 4,
 "nbformat_minor": 2
}
